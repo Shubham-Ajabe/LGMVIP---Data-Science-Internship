{
  "nbformat": 4,
  "nbformat_minor": 0,
  "metadata": {
    "colab": {
      "name": "Develop a Neural Network that can read hand written digits ",
      "provenance": [],
      "collapsed_sections": []
    },
    "kernelspec": {
      "name": "python3",
      "display_name": "Python 3"
    },
    "language_info": {
      "name": "python"
    }
  },
  "cells": [
    {
      "cell_type": "markdown",
      "metadata": {
        "id": "YrhvpFydRnD3"
      },
      "source": [
        "# ",
        "**\n",
        "\n",
        "*** \n",
        "\n",
        "\n",
        "***\n",
        "\n",
        "Dataset Link: https://www.kaggle.com/oddrationale/mnist-in-csv\n",
        "\n",
        "</BR>Here, We will be using the dataset given above to train a neural network using tensorflow by following the steps mentioned below: -</BR>\n",
        "1. Loading the Dataset.\n",
        "2. Normalization of Data.\n",
        "3. Creating a feed forward Neural Network.\n",
        "4. Evaluation of model on the test data.\n",
        "5. Testing model on our handwritten digits.\n",
        "\n"
      ]
    },
    {
      "cell_type": "markdown",
      "metadata": {
        "id": "f_3hhSXDbz_y"
      },
      "source": [
        "# Loading the Dataset"
      ]
    },
    {
      "cell_type": "code",
      "metadata": {
        "id": "Ap8EYoh_Rivn"
      },
      "source": [
        "# Importing the necessary libraries \n",
        "import cv2 as cv\n",
        "import numpy as np\n",
        "import matplotlib.pyplot as plt\n",
        "import tensorflow as tf\n",
        "\n",
        "from keras.datasets import mnist"
      ],
      "execution_count": null,
      "outputs": []
    },
    {
      "cell_type": "code",
      "metadata": {
        "id": "6mNzojT6KuWa"
      },
      "source": [
        "#loading the dataset\n",
        "(X_train, y_train), (X_test, y_test) = mnist.load_data()"
      ],
      "execution_count": null,
      "outputs": []
    },
    {
      "cell_type": "code",
      "metadata": {
        "colab": {
          "base_uri": "https://localhost:8080/"
        },
        "id": "FyP0QyexLa24",
        "outputId": "281f3840-c64c-421a-ccdd-d76e22671b07"
      },
      "source": [
        "#shape of dataset\n",
        "print('X_train: ' + str(X_train.shape))\n",
        "print('Y_train: ' + str(y_train.shape))\n",
        "print('X_test:  '  + str(X_test.shape))\n",
        "print('Y_test:  '  + str(y_test.shape))"
      ],
      "execution_count": null,
      "outputs": [
        {
          "output_type": "stream",
          "name": "stdout",
          "text": [
            "X_train: (60000, 28, 28)\n",
            "Y_train: (60000,)\n",
            "X_test:  (10000, 28, 28)\n",
            "Y_test:  (10000,)\n"
          ]
        }
      ]
    },
    {
      "cell_type": "markdown",
      "metadata": {
        "id": "44QKLoV8L8KQ"
      },
      "source": [
        "The dataset is setup in such a way that it contains 60,000 training data and 10,000 testing data."
      ]
    },
    {
      "cell_type": "code",
      "metadata": {
        "colab": {
          "base_uri": "https://localhost:8080/",
          "height": 268
        },
        "id": "IkV-BEfRK0eW",
        "outputId": "06d786a9-804a-455e-e04b-7f58697bd52b"
      },
      "source": [
        "#plotting the dataset \n",
        "\n",
        "for i in range(9):\n",
        "  plt.subplot(330 + 1 + i)\n",
        "  plt.imshow(X_train[i], cmap=plt.get_cmap('gray'))\n",
        "plt.show()"
      ],
      "execution_count": 27,
      "outputs": [
        {
          "output_type": "display_data",
          "data": {
            "image/png": "\n",
            "text/plain": [
              "<Figure size 432x288 with 9 Axes>"
            ]
          },
          "metadata": {
            "needs_background": "light"
          }
        }
      ]
    },
    {
      "cell_type": "markdown",
      "metadata": {
        "id": "2tYZjQ8KMNVo"
      },
      "source": [
        "# Normalization of Data.\n",
        "As the data is in greyscale we can normalize it between 0 and 1, otherwise we would be doing 0 to 255 for a RGB picture."
      ]
    },
    {
      "cell_type": "code",
      "metadata": {
        "id": "AP-ZdRyfK2Ad"
      },
      "source": [
        "X_train = tf.keras.utils.normalize(X_train, axis=1)\n",
        "X_test = tf.keras.utils.normalize(X_test, axis=1)"
      ],
      "execution_count": null,
      "outputs": []
    },
    {
      "cell_type": "markdown",
      "metadata": {
        "id": "342el2-mNAJm"
      },
      "source": [
        "We won't be normalizing the y_train and y_test as it's just the labels for every picture containing a number from 0 to 9."
      ]
    },
    {
      "cell_type": "markdown",
      "metadata": {
        "id": "br5Er8ViNVB0"
      },
      "source": [
        "# Creating a feed forward Neural Network.\n",
        "\n",
        "\n"
      ]
    },
    {
      "cell_type": "code",
      "metadata": {
        "id": "ZZgbrv8qNLbu"
      },
      "source": [
        "model=tf.keras.models.Sequential()\n",
        "\n",
        "model.add(tf.keras.layers.Flatten (input_shape=(28,28))) #Input layer\n",
        "model.add(tf.keras.layers.Dense(units=128, activation=\"relu\")) #Hidden Layer 1\n",
        "model.add(tf.keras.layers.Dense(units=128, activation=\"relu\")) #Hidden Layer 2\n",
        "model.add(tf.keras.layers.Dense(units=10, activation=\"softmax\")) #output layer"
      ],
      "execution_count": null,
      "outputs": []
    },
    {
      "cell_type": "code",
      "metadata": {
        "colab": {
          "base_uri": "https://localhost:8080/"
        },
        "id": "pv0kCKbjS3tD",
        "outputId": "5ee39a63-f778-4d7e-8447-c732509003d3"
      },
      "source": [
        "# compiling the model\n",
        "model.compile(optimizer='adam', loss='sparse_categorical_crossentropy', metrics=['accuracy'])\n",
        "\n",
        "#fitting the model\n",
        "model.fit(X_train, y_train, epochs=5)"
      ],
      "execution_count": null,
      "outputs": [
        {
          "output_type": "stream",
          "name": "stdout",
          "text": [
            "Epoch 1/5\n",
            "1875/1875 [==============================] - 5s 2ms/step - loss: 0.0677 - accuracy: 0.9782\n",
            "Epoch 2/5\n",
            "1875/1875 [==============================] - 4s 2ms/step - loss: 0.0397 - accuracy: 0.9868\n",
            "Epoch 3/5\n",
            "1875/1875 [==============================] - 4s 2ms/step - loss: 0.0282 - accuracy: 0.9908\n",
            "Epoch 4/5\n",
            "1875/1875 [==============================] - 4s 2ms/step - loss: 0.0207 - accuracy: 0.9931\n",
            "Epoch 5/5\n",
            "1875/1875 [==============================] - 4s 2ms/step - loss: 0.0173 - accuracy: 0.9940\n"
          ]
        },
        {
          "output_type": "execute_result",
          "data": {
            "text/plain": [
              "<keras.callbacks.History at 0x7ff494e70b90>"
            ]
          },
          "metadata": {},
          "execution_count": 10
        }
      ]
    },
    {
      "cell_type": "markdown",
      "metadata": {
        "id": "yCkgfFJOcb25"
      },
      "source": [
        "By default the batch_size is 32, hence total training examples = 60,000/32 = 1875 batches."
      ]
    },
    {
      "cell_type": "markdown",
      "metadata": {
        "id": "rdqFwnwOcCYk"
      },
      "source": [
        "# Evaluation of model on the test data."
      ]
    },
    {
      "cell_type": "code",
      "metadata": {
        "colab": {
          "base_uri": "https://localhost:8080/"
        },
        "id": "tfCAOTivTWFU",
        "outputId": "de17ab65-e55d-4559-94b5-062dd150f020"
      },
      "source": [
        "loss, acc = model.evaluate(X_test, y_test)"
      ],
      "execution_count": null,
      "outputs": [
        {
          "output_type": "stream",
          "name": "stdout",
          "text": [
            "313/313 [==============================] - 1s 1ms/step - loss: 0.1121 - accuracy: 0.9737\n"
          ]
        }
      ]
    },
    {
      "cell_type": "markdown",
      "metadata": {
        "id": "uHyq5o3HV9Vp"
      },
      "source": [
        "Now our model is trained and giving an accuracy of 97% classifying the digits it has never seen before."
      ]
    },
    {
      "cell_type": "markdown",
      "metadata": {
        "id": "ScxgnaLVYrIG"
      },
      "source": [
        "# Testing model on our handwritten digits."
      ]
    },
    {
      "cell_type": "code",
      "metadata": {
        "id": "zzVENKyZUcDa",
        "colab": {
          "base_uri": "https://localhost:8080/",
          "height": 1000
        },
        "outputId": "865b2ca6-fd39-43a5-da8f-1e02163a801f"
      },
      "source": [
        "for x in range(1,6):\n",
        "  img = cv.imread(f'{x}.png')[:,:,0] \n",
        "  img = np.invert(np.array([img]))\n",
        "  prediction = model.predict(img)\n",
        "  print(f'This number is: {np.argmax(prediction)}')\n",
        "  plt.imshow(img[0], cmap = plt.cm.binary)\n",
        "  plt.show()"
      ],
      "execution_count": 26,
      "outputs": [
        {
          "output_type": "stream",
          "name": "stdout",
          "text": [
            "This number is: 2\n"
          ]
        },
        {
          "output_type": "display_data",
          "data": {
            "image/png": "\n",
            "text/plain": [
              "<Figure size 432x288 with 1 Axes>"
            ]
          },
          "metadata": {
            "needs_background": "light"
          }
        },
        {
          "output_type": "stream",
          "name": "stdout",
          "text": [
            "This number is: 3\n"
          ]
        },
        {
          "output_type": "display_data",
          "data": {
            "image/png": "\n",
            "text/plain": [
              "<Figure size 432x288 with 1 Axes>"
            ]
          },
          "metadata": {
            "needs_background": "light"
          }
        },
        {
          "output_type": "stream",
          "name": "stdout",
          "text": [
            "This number is: 7\n"
          ]
        },
        {
          "output_type": "display_data",
          "data": {
            "image/png": "\n",
            "text/plain": [
              "<Figure size 432x288 with 1 Axes>"
            ]
          },
          "metadata": {
            "needs_background": "light"
          }
        },
        {
          "output_type": "stream",
          "name": "stdout",
          "text": [
            "This number is: 8\n"
          ]
        },
        {
          "output_type": "display_data",
          "data": {
            "image/png": "\n",
            "text/plain": [
              "<Figure size 432x288 with 1 Axes>"
            ]
          },
          "metadata": {
            "needs_background": "light"
          }
        },
        {
          "output_type": "stream",
          "name": "stdout",
          "text": [
            "This number is: 9\n"
          ]
        },
        {
          "output_type": "display_data",
          "data": {
            "image/png": "\n",
            "text/plain": [
              "<Figure size 432x288 with 1 Axes>"
            ]
          },
          "metadata": {
            "needs_background": "light"
          }
        }
      ]
    }
  ]
}